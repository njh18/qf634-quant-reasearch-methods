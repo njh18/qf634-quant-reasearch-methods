{
 "cells": [
  {
   "cell_type": "code",
   "execution_count": 1,
   "metadata": {},
   "outputs": [],
   "source": [
    "import yfinance as yf\n",
    "import pandas as pd\n",
    "import numpy as np\n",
    "import sklearn\n",
    "import matplotlib \n",
    "import seaborn as sns\n",
    "import statsmodels.api as sm\n",
    "import scipy.optimize"
   ]
  },
  {
   "cell_type": "code",
   "execution_count": 2,
   "metadata": {},
   "outputs": [],
   "source": [
    "spdr_sector_etfs = {\n",
    "    \"Communication Services\": \"XLC\",\n",
    "    \"Consumer Discretionary\": \"XLY\",\n",
    "    \"Consumer Staples\": \"XLP\",\n",
    "    \"Energy\": \"XLE\",\n",
    "    \"Financials\": \"XLF\",\n",
    "    \"Health Care\": \"XLV\",\n",
    "    \"Industrials\": \"XLI\",\n",
    "    \"Materials\": \"XLB\",\n",
    "    \"Real Estate\": \"XLRE\",\n",
    "    \"Technology\": \"XLK\",\n",
    "    \"Utilities\": \"XLU\"\n",
    "}"
   ]
  },
  {
   "cell_type": "code",
   "execution_count": 3,
   "metadata": {},
   "outputs": [],
   "source": [
    "cryptos = {\n",
    "    \"Bitcoin\": \"BTC-USD\",\n",
    "    \"Ethereum\": \"ETH-USD\",\n",
    "    \"Ripple\": \"XRP-USD\",\n",
    "    \"Litecoin\": \"LTC-USD\",\n",
    "    \"Cardano\": \"ADA-USD\"\n",
    "}"
   ]
  },
  {
   "cell_type": "code",
   "execution_count": null,
   "metadata": {},
   "outputs": [
    {
     "name": "stdout",
     "output_type": "stream",
     "text": [
      "Fetching data for 16 tickers...\n"
     ]
    },
    {
     "name": "stderr",
     "output_type": "stream",
     "text": [
      "[*********************100%***********************]  16 of 16 completed\n"
     ]
    }
   ],
   "source": [
    "# combine the tickers\n",
    "all_tickers = list(spdr_sector_etfs.values()) + list(cryptos.values())\n",
    "\n",
    "start_date = \"2024-10-01\"\n",
    "end_date = \"2024-10-31\"\n",
    "\n",
    "\n",
    "print(f\"Fetching data for {len(all_tickers)} tickers...\")\n",
    "data = yf.download(all_tickers, start=start_date, end=end_date)\n"
   ]
  },
  {
   "cell_type": "code",
   "execution_count": 6,
   "metadata": {},
   "outputs": [
    {
     "name": "stdout",
     "output_type": "stream",
     "text": [
      "<class 'pandas.core.frame.DataFrame'>\n",
      "DatetimeIndex: 30 entries, 2024-10-01 to 2024-10-30\n",
      "Freq: D\n",
      "Data columns (total 96 columns):\n",
      " #   Column                Non-Null Count  Dtype  \n",
      "---  ------                --------------  -----  \n",
      " 0   (Adj Close, ADA-USD)  30 non-null     float64\n",
      " 1   (Adj Close, BTC-USD)  30 non-null     float64\n",
      " 2   (Adj Close, ETH-USD)  30 non-null     float64\n",
      " 3   (Adj Close, LTC-USD)  30 non-null     float64\n",
      " 4   (Adj Close, XLB)      22 non-null     float64\n",
      " 5   (Adj Close, XLC)      22 non-null     float64\n",
      " 6   (Adj Close, XLE)      22 non-null     float64\n",
      " 7   (Adj Close, XLF)      22 non-null     float64\n",
      " 8   (Adj Close, XLI)      22 non-null     float64\n",
      " 9   (Adj Close, XLK)      22 non-null     float64\n",
      " 10  (Adj Close, XLP)      22 non-null     float64\n",
      " 11  (Adj Close, XLRE)     22 non-null     float64\n",
      " 12  (Adj Close, XLU)      22 non-null     float64\n",
      " 13  (Adj Close, XLV)      22 non-null     float64\n",
      " 14  (Adj Close, XLY)      22 non-null     float64\n",
      " 15  (Adj Close, XRP-USD)  30 non-null     float64\n",
      " 16  (Close, ADA-USD)      30 non-null     float64\n",
      " 17  (Close, BTC-USD)      30 non-null     float64\n",
      " 18  (Close, ETH-USD)      30 non-null     float64\n",
      " 19  (Close, LTC-USD)      30 non-null     float64\n",
      " 20  (Close, XLB)          22 non-null     float64\n",
      " 21  (Close, XLC)          22 non-null     float64\n",
      " 22  (Close, XLE)          22 non-null     float64\n",
      " 23  (Close, XLF)          22 non-null     float64\n",
      " 24  (Close, XLI)          22 non-null     float64\n",
      " 25  (Close, XLK)          22 non-null     float64\n",
      " 26  (Close, XLP)          22 non-null     float64\n",
      " 27  (Close, XLRE)         22 non-null     float64\n",
      " 28  (Close, XLU)          22 non-null     float64\n",
      " 29  (Close, XLV)          22 non-null     float64\n",
      " 30  (Close, XLY)          22 non-null     float64\n",
      " 31  (Close, XRP-USD)      30 non-null     float64\n",
      " 32  (High, ADA-USD)       30 non-null     float64\n",
      " 33  (High, BTC-USD)       30 non-null     float64\n",
      " 34  (High, ETH-USD)       30 non-null     float64\n",
      " 35  (High, LTC-USD)       30 non-null     float64\n",
      " 36  (High, XLB)           22 non-null     float64\n",
      " 37  (High, XLC)           22 non-null     float64\n",
      " 38  (High, XLE)           22 non-null     float64\n",
      " 39  (High, XLF)           22 non-null     float64\n",
      " 40  (High, XLI)           22 non-null     float64\n",
      " 41  (High, XLK)           22 non-null     float64\n",
      " 42  (High, XLP)           22 non-null     float64\n",
      " 43  (High, XLRE)          22 non-null     float64\n",
      " 44  (High, XLU)           22 non-null     float64\n",
      " 45  (High, XLV)           22 non-null     float64\n",
      " 46  (High, XLY)           22 non-null     float64\n",
      " 47  (High, XRP-USD)       30 non-null     float64\n",
      " 48  (Low, ADA-USD)        30 non-null     float64\n",
      " 49  (Low, BTC-USD)        30 non-null     float64\n",
      " 50  (Low, ETH-USD)        30 non-null     float64\n",
      " 51  (Low, LTC-USD)        30 non-null     float64\n",
      " 52  (Low, XLB)            22 non-null     float64\n",
      " 53  (Low, XLC)            22 non-null     float64\n",
      " 54  (Low, XLE)            22 non-null     float64\n",
      " 55  (Low, XLF)            22 non-null     float64\n",
      " 56  (Low, XLI)            22 non-null     float64\n",
      " 57  (Low, XLK)            22 non-null     float64\n",
      " 58  (Low, XLP)            22 non-null     float64\n",
      " 59  (Low, XLRE)           22 non-null     float64\n",
      " 60  (Low, XLU)            22 non-null     float64\n",
      " 61  (Low, XLV)            22 non-null     float64\n",
      " 62  (Low, XLY)            22 non-null     float64\n",
      " 63  (Low, XRP-USD)        30 non-null     float64\n",
      " 64  (Open, ADA-USD)       30 non-null     float64\n",
      " 65  (Open, BTC-USD)       30 non-null     float64\n",
      " 66  (Open, ETH-USD)       30 non-null     float64\n",
      " 67  (Open, LTC-USD)       30 non-null     float64\n",
      " 68  (Open, XLB)           22 non-null     float64\n",
      " 69  (Open, XLC)           22 non-null     float64\n",
      " 70  (Open, XLE)           22 non-null     float64\n",
      " 71  (Open, XLF)           22 non-null     float64\n",
      " 72  (Open, XLI)           22 non-null     float64\n",
      " 73  (Open, XLK)           22 non-null     float64\n",
      " 74  (Open, XLP)           22 non-null     float64\n",
      " 75  (Open, XLRE)          22 non-null     float64\n",
      " 76  (Open, XLU)           22 non-null     float64\n",
      " 77  (Open, XLV)           22 non-null     float64\n",
      " 78  (Open, XLY)           22 non-null     float64\n",
      " 79  (Open, XRP-USD)       30 non-null     float64\n",
      " 80  (Volume, ADA-USD)     30 non-null     int64  \n",
      " 81  (Volume, BTC-USD)     30 non-null     int64  \n",
      " 82  (Volume, ETH-USD)     30 non-null     int64  \n",
      " 83  (Volume, LTC-USD)     30 non-null     int64  \n",
      " 84  (Volume, XLB)         22 non-null     float64\n",
      " 85  (Volume, XLC)         22 non-null     float64\n",
      " 86  (Volume, XLE)         22 non-null     float64\n",
      " 87  (Volume, XLF)         22 non-null     float64\n",
      " 88  (Volume, XLI)         22 non-null     float64\n",
      " 89  (Volume, XLK)         22 non-null     float64\n",
      " 90  (Volume, XLP)         22 non-null     float64\n",
      " 91  (Volume, XLRE)        22 non-null     float64\n",
      " 92  (Volume, XLU)         22 non-null     float64\n",
      " 93  (Volume, XLV)         22 non-null     float64\n",
      " 94  (Volume, XLY)         22 non-null     float64\n",
      " 95  (Volume, XRP-USD)     30 non-null     int64  \n",
      "dtypes: float64(91), int64(5)\n",
      "memory usage: 22.7 KB\n"
     ]
    }
   ],
   "source": [
    "data.info()"
   ]
  },
  {
   "cell_type": "code",
   "execution_count": 9,
   "metadata": {},
   "outputs": [
    {
     "name": "stdout",
     "output_type": "stream",
     "text": [
      "<class 'pandas.core.frame.DataFrame'>\n",
      "DatetimeIndex: 30 entries, 2024-10-01 to 2024-10-30\n",
      "Freq: D\n",
      "Data columns (total 16 columns):\n",
      " #   Column                Non-Null Count  Dtype  \n",
      "---  ------                --------------  -----  \n",
      " 0   (Adj Close, ADA-USD)  30 non-null     float64\n",
      " 1   (Adj Close, BTC-USD)  30 non-null     float64\n",
      " 2   (Adj Close, ETH-USD)  30 non-null     float64\n",
      " 3   (Adj Close, LTC-USD)  30 non-null     float64\n",
      " 4   (Adj Close, XLB)      22 non-null     float64\n",
      " 5   (Adj Close, XLC)      22 non-null     float64\n",
      " 6   (Adj Close, XLE)      22 non-null     float64\n",
      " 7   (Adj Close, XLF)      22 non-null     float64\n",
      " 8   (Adj Close, XLI)      22 non-null     float64\n",
      " 9   (Adj Close, XLK)      22 non-null     float64\n",
      " 10  (Adj Close, XLP)      22 non-null     float64\n",
      " 11  (Adj Close, XLRE)     22 non-null     float64\n",
      " 12  (Adj Close, XLU)      22 non-null     float64\n",
      " 13  (Adj Close, XLV)      22 non-null     float64\n",
      " 14  (Adj Close, XLY)      22 non-null     float64\n",
      " 15  (Adj Close, XRP-USD)  30 non-null     float64\n",
      "dtypes: float64(16)\n",
      "memory usage: 4.0 KB\n"
     ]
    }
   ],
   "source": [
    "adj_close_data = data.filter(like=\"Adj Close\")\n",
    "adj_close_data.info()\n"
   ]
  },
  {
   "cell_type": "code",
   "execution_count": null,
   "metadata": {},
   "outputs": [],
   "source": []
  }
 ],
 "metadata": {
  "kernelspec": {
   "display_name": "base",
   "language": "python",
   "name": "python3"
  },
  "language_info": {
   "codemirror_mode": {
    "name": "ipython",
    "version": 3
   },
   "file_extension": ".py",
   "mimetype": "text/x-python",
   "name": "python",
   "nbconvert_exporter": "python",
   "pygments_lexer": "ipython3",
   "version": "3.12.4"
  }
 },
 "nbformat": 4,
 "nbformat_minor": 2
}
