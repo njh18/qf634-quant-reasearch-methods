{
 "cells": [
  {
   "cell_type": "code",
   "execution_count": 1,
   "metadata": {},
   "outputs": [],
   "source": [
    "import pandas as pd\n",
    "import numpy as np\n",
    "from benchmarks import MinVarianceMethod, MaxSharpeMethod\n",
    "from environment import Environment\n",
    "from utils import get_stats, cumulative_pct_change\n",
    "import numpy as np\n",
    "import pandas as pd\n",
    "import matplotlib.pyplot as plt"
   ]
  },
  {
   "cell_type": "markdown",
   "metadata": {},
   "source": [
    "# Loading Environments"
   ]
  },
  {
   "cell_type": "code",
   "execution_count": null,
   "metadata": {},
   "outputs": [],
   "source": [
    "env = Environment()\n",
    "minvar_method = MinVarianceMethod(allow_short=True)\n",
    "maxsharpe_method = MaxSharpeMethod(allow_short=True)"
   ]
  },
  {
   "cell_type": "code",
   "execution_count": null,
   "metadata": {},
   "outputs": [],
   "source": [
    "len(env.returns)"
   ]
  },
  {
   "cell_type": "markdown",
   "metadata": {},
   "source": [
    "# Testing and getting results"
   ]
  },
  {
   "cell_type": "code",
   "execution_count": null,
   "metadata": {},
   "outputs": [],
   "source": [
    "WINDOW_FIT = 180\n",
    "WINDOW_HOLD = 180\n",
    "N_ASSETS = len(env.returns.columns)\n",
    "actions_equal, actions_minvar, actions_maxsharpe = [], [], []\n",
    "result_equal, result_minvar, result_maxsharpe = [], [], []\n",
    "\n",
    "\n",
    "for i in range(WINDOW_FIT, len(env.returns), WINDOW_HOLD):\n",
    "    print(f\"Testing Window from {i} to {i+WINDOW_FIT} and Training window from {i+WINDOW_FIT} to {i+WINDOW_FIT+WINDOW_HOLD}\")\n",
    "\n",
    "    if (i + WINDOW_FIT  > len(env.returns)) :\n",
    "        print(\"Exceeded training and hold window, will stop\")\n",
    "        break\n",
    "\n",
    "    state = env.get_state(\n",
    "        start=i, \n",
    "        length=WINDOW_FIT\n",
    "        )\n",
    "    \n",
    "    equal_weights = np.ones(N_ASSETS) / N_ASSETS\n",
    "    min_var_weights = minvar_method.get_optimal_weights(state)\n",
    "    print(f\"Min var weights: {min_var_weights}\")\n",
    "    max_sharpe_weights = maxsharpe_method.get_optimal_weights(state)\n",
    "    print(f\"Max sharpe weights: {max_sharpe_weights}\")\n",
    "\n",
    "    holding_period_returns = env.get_state(\n",
    "        start = i + WINDOW_FIT, \n",
    "        length = WINDOW_HOLD\n",
    "    )\n",
    "    \n",
    "    r = np.dot(holding_period_returns, equal_weights)\n",
    "    result_equal.append(r.tolist())\n",
    "    actions_equal.append(equal_weights)\n",
    "    \n",
    "    r = np.dot(holding_period_returns, min_var_weights)\n",
    "    result_minvar.append(r.tolist())\n",
    "    actions_minvar.append(min_var_weights)\n",
    "\n",
    "    r = np.dot(holding_period_returns, max_sharpe_weights)\n",
    "    result_maxsharpe.append(r.tolist())\n",
    "    actions_maxsharpe.append(max_sharpe_weights)\n"
   ]
  },
  {
   "cell_type": "markdown",
   "metadata": {},
   "source": [
    "# Evaluation"
   ]
  },
  {
   "cell_type": "code",
   "execution_count": null,
   "metadata": {},
   "outputs": [],
   "source": [
    "test = [0, -50, 50, ]\n",
    "assert cumulative_pct_change(test).tolist() == [0,-50.0,-25.0]"
   ]
  },
  {
   "cell_type": "code",
   "execution_count": null,
   "metadata": {},
   "outputs": [],
   "source": [
    "# flatten into list and compare results\n",
    "equal_weights_daily_returns = [item for sublist in result_equal for item in sublist]\n",
    "minvar_method_daily_returns = [item for sublist in result_minvar for item in sublist]\n",
    "maxsharpe_method_daily_returns = [item for sublist in result_maxsharpe for item in sublist]\n",
    "\n",
    "plt.figure()\n",
    "plt.xlabel(\"Days\", fontsize=12)\n",
    "plt.ylabel(\"Returns (%)\")\n",
    "plt.plot(cumulative_pct_change(equal_weights_daily_returns), label = \"Equal Weights Portfolio\")\n",
    "plt.plot(cumulative_pct_change(minvar_method_daily_returns), label = \"Minimum Variance Portfolio\")\n",
    "plt.plot(cumulative_pct_change(maxsharpe_method_daily_returns), label = \"Maximum Sharpe Portfolio\")\n",
    "plt.ylabel(\"Cumulative Returns (%)\", fontsize=12)\n",
    "plt.title(\"Portfolio Performance Comparison\", fontsize=14)\n",
    "plt.legend(fontsize=10)  # Add legend for clarity\n",
    "plt.show()\n"
   ]
  },
  {
   "cell_type": "code",
   "execution_count": null,
   "metadata": {},
   "outputs": [],
   "source": [
    "results = []\n",
    "\n",
    "\n",
    "equal_weights_stats = get_stats(equal_weights_daily_returns)\n",
    "equal_weights_stats[\"Name\"] = \"Equal Weights Portfolio\"\n",
    "results.append(equal_weights_stats)\n",
    "\n",
    "minvar_method_stats = get_stats(minvar_method_daily_returns)\n",
    "minvar_method_stats[\"Name\"] = \"Minimum Variance Portfolio\"\n",
    "results.append(minvar_method_stats)\n",
    "\n",
    "maxsharpe_method_stats = get_stats(maxsharpe_method_daily_returns)\n",
    "maxsharpe_method_stats[\"Name\"] = \"Maximum Sharpe Portfolio\"\n",
    "results.append(maxsharpe_method_stats)\n",
    "\n",
    "\n",
    "stats = pd.DataFrame(results).set_index(\"Name\")\n",
    "stats"
   ]
  }
 ],
 "metadata": {
  "kernelspec": {
   "display_name": "base",
   "language": "python",
   "name": "python3"
  },
  "language_info": {
   "codemirror_mode": {
    "name": "ipython",
    "version": 3
   },
   "file_extension": ".py",
   "mimetype": "text/x-python",
   "name": "python",
   "nbconvert_exporter": "python",
   "pygments_lexer": "ipython3",
   "version": "3.12.4"
  }
 },
 "nbformat": 4,
 "nbformat_minor": 2
}
